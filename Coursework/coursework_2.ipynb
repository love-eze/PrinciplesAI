{
 "cells": [
  {
   "cell_type": "code",
   "execution_count": 22,
   "metadata": {},
   "outputs": [],
   "source": [
    "import numpy as np\n",
    "import matplotlib.pyplot as plt\n",
    "import pandas as pd"
   ]
  },
  {
   "cell_type": "markdown",
   "metadata": {},
   "source": [
    "# 1. LOADING THE DATA "
   ]
  },
  {
   "cell_type": "code",
   "execution_count": 23,
   "metadata": {},
   "outputs": [],
   "source": [
    "PATH = \"human+activity+recognition+using+smartphones/UCI HAR Dataset/\"\n",
    "features_path = PATH + \"features.txt\"\n",
    "activity_labels_path = PATH + \"activity_labels.txt\"\n",
    "X_train_path = PATH + \"train/X_train.txt\"\n",
    "y_train_path = PATH + \"train/y_train.txt\"\n",
    "X_test_path = PATH + \"test/X_test.txt\"\n",
    "y_test_path = PATH + \"test/y_test.txt\"\n",
    "\n",
    "\n",
    "# Load feature names, This appends the column index to any duplicate names.\n",
    "features_df = pd.read_csv(features_path, sep=\"\\s+\", header=None, names=[\"idx\", \"feature\"])\n",
    "feature_names = features_df[\"feature\"].tolist()\n",
    "\n",
    "\n",
    "# this appends the column index to any duplicate names.\n",
    "features_df[\"feature\"] = features_df[\"feature\"].astype(str) + \"_\" + features_df.index.astype(str)\n",
    "feature_names = features_df[\"feature\"].tolist()\n",
    "\n",
    "\n",
    "# Load activity labels (mapping IDs 1-6 to string names)\n",
    "activity_labels_df = pd.read_csv(activity_labels_path, sep=\"\\s+\", header=None, names=[\"id\", \"activity\"])\n",
    "activity_map = dict(zip(activity_labels_df[\"id\"], activity_labels_df[\"activity\"]))\n",
    "\n",
    "# Load train/test sets\n",
    "X_train = pd.read_csv(X_train_path, sep=\"\\s+\", header=None, names=feature_names)\n",
    "y_train = pd.read_csv(y_train_path, sep=\"\\s+\", header=None, names=[\"Activity\"])\n",
    "X_test = pd.read_csv(X_test_path, sep=\"\\s+\", header=None, names=feature_names)\n",
    "y_test = pd.read_csv(y_test_path, sep=\"\\s+\", header=None, names=[\"Activity\"])\n",
    "\n",
    "# Map the activity IDs to their names\n",
    "y_train[\"Activity\"] = y_train[\"Activity\"].map(activity_map)\n",
    "y_test[\"Activity\"] = y_test[\"Activity\"].map(activity_map)\n"
   ]
  },
  {
   "cell_type": "markdown",
   "metadata": {},
   "source": [
    "# 2. CONVERT MULTI-CLASS TO BINARY "
   ]
  },
  {
   "cell_type": "code",
   "execution_count": 24,
   "metadata": {},
   "outputs": [],
   "source": [
    "def to_binary_label(activity):\n",
    "    if activity in [\"WALKING\", \"WALKING_UPSTAIRS\", \"WALKING_DOWNSTAIRS\"]:\n",
    "        return 1  # Active\n",
    "    else:\n",
    "        return 0  # Inactive\n",
    "\n",
    "y_train[\"Binary\"] = y_train[\"Activity\"].apply(to_binary_label)\n",
    "y_test[\"Binary\"] = y_test[\"Activity\"].apply(to_binary_label)"
   ]
  },
  {
   "cell_type": "markdown",
   "metadata": {},
   "source": [
    "# 3. TRAINING SVM MODELS "
   ]
  },
  {
   "cell_type": "code",
   "execution_count": 25,
   "metadata": {},
   "outputs": [
    {
     "name": "stdout",
     "output_type": "stream",
     "text": [
      "Linear Kernel Accuracy: 1.0000\n",
      "Polynomial Kernel Accuracy: 0.9997\n",
      "RBF Kernel Accuracy: 0.9997\n"
     ]
    }
   ],
   "source": [
    "from sklearn.svm import SVC\n",
    "from sklearn.metrics import accuracy_score\n",
    "\n",
    "# --- Initialize SVM models with different kernels ---\n",
    "svm_linear = SVC(kernel=\"linear\", random_state=42)\n",
    "svm_poly = SVC(kernel=\"poly\", degree=3, random_state=42)  # Polynomial kernel with degree=3\n",
    "svm_rbf = SVC(kernel=\"rbf\", random_state=42)  # RBF kernel\n",
    "\n",
    "# --- Train the models ---\n",
    "svm_linear.fit(X_train, y_train[\"Binary\"])\n",
    "svm_poly.fit(X_train, y_train[\"Binary\"])\n",
    "svm_rbf.fit(X_train, y_train[\"Binary\"])\n",
    "\n",
    "# --- Make predictions ---\n",
    "y_pred_linear = svm_linear.predict(X_test)\n",
    "y_pred_poly = svm_poly.predict(X_test)\n",
    "y_pred_rbf = svm_rbf.predict(X_test)\n",
    "\n",
    "# --- Evaluate models ---\n",
    "acc_linear = accuracy_score(y_test[\"Binary\"], y_pred_linear)\n",
    "acc_poly = accuracy_score(y_test[\"Binary\"], y_pred_poly)\n",
    "acc_rbf = accuracy_score(y_test[\"Binary\"], y_pred_rbf)\n",
    "\n",
    "# --- Print results ---\n",
    "print(f\"Linear Kernel Accuracy: {acc_linear:.4f}\")\n",
    "print(f\"Polynomial Kernel Accuracy: {acc_poly:.4f}\")\n",
    "print(f\"RBF Kernel Accuracy: {acc_rbf:.4f}\")\n"
   ]
  },
  {
   "cell_type": "markdown",
   "metadata": {},
   "source": [
    "# 4. HYPERPARAMETER TUNING"
   ]
  },
  {
   "cell_type": "code",
   "execution_count": 26,
   "metadata": {},
   "outputs": [
    {
     "name": "stdout",
     "output_type": "stream",
     "text": [
      "🔍 Tuning linear kernel...\n",
      "✅ Best params for linear: {'C': 0.1}\n",
      "📊 Best cross-validation accuracy: 0.9996\n",
      "\n",
      "🔍 Tuning poly kernel...\n",
      "✅ Best params for poly: {'C': 0.1, 'degree': 4}\n",
      "📊 Best cross-validation accuracy: 0.9995\n",
      "\n",
      "🔍 Tuning rbf kernel...\n",
      "✅ Best params for rbf: {'C': 1, 'gamma': 0.01}\n",
      "📊 Best cross-validation accuracy: 0.9996\n",
      "\n",
      "🏆 Best Parameters for Each Kernel:\n",
      "{'linear': {'C': 0.1}, 'poly': {'C': 0.1, 'degree': 4}, 'rbf': {'C': 1, 'gamma': 0.01}}\n"
     ]
    }
   ],
   "source": [
    "from sklearn.model_selection import GridSearchCV\n",
    "\n",
    "# --- Define parameter grids for each kernel ---\n",
    "param_grid = {\n",
    "    'linear': {'C': [0.1, 1, 10, 100]},\n",
    "    'poly': {'C': [0.1, 1, 10], 'degree': [2, 3, 4]},\n",
    "    'rbf': {'C': [0.1, 1, 10], 'gamma': ['scale', 'auto', 0.01, 0.1, 1]}\n",
    "}\n",
    "\n",
    "# --- Run GridSearchCV for each kernel ---\n",
    "best_params = {}\n",
    "best_scores = {}\n",
    "\n",
    "for kernel in ['linear', 'poly', 'rbf']:\n",
    "    print(f\"🔍 Tuning {kernel} kernel...\")\n",
    "    \n",
    "    # Create an SVM model with the current kernel\n",
    "    model = SVC(kernel=kernel)\n",
    "    \n",
    "    # Perform Grid Search with cross-validation\n",
    "    grid_search = GridSearchCV(model, param_grid[kernel], cv=5, scoring='accuracy', n_jobs=-1)\n",
    "    grid_search.fit(X_train, y_train[\"Binary\"])\n",
    "    \n",
    "    # Store best parameters and accuracy\n",
    "    best_params[kernel] = grid_search.best_params_\n",
    "    best_scores[kernel] = grid_search.best_score_\n",
    "    \n",
    "    print(f\"✅ Best params for {kernel}: {grid_search.best_params_}\")\n",
    "    print(f\"📊 Best cross-validation accuracy: {grid_search.best_score_:.4f}\\n\")\n",
    "\n",
    "# --- Print Final Best Parameters ---\n",
    "print(\"🏆 Best Parameters for Each Kernel:\")\n",
    "print(best_params)"
   ]
  },
  {
   "cell_type": "markdown",
   "metadata": {},
   "source": [
    "# 5.EVALUATE AND INTERPREAT RESULTS"
   ]
  },
  {
   "cell_type": "markdown",
   "metadata": {},
   "source": [
    "## Confusion Matrix"
   ]
  },
  {
   "cell_type": "code",
   "execution_count": 27,
   "metadata": {},
   "outputs": [
    {
     "name": "stdout",
     "output_type": "stream",
     "text": [
      "Confusion Matrix:\n",
      "[[1558    2]\n",
      " [   0 1387]]\n"
     ]
    }
   ],
   "source": [
    "y_test[\"Binary\"] = y_test[\"Activity\"].apply(to_binary_label)\n",
    "y_test_binary = y_test[\"Binary\"].astype(int)\n",
    "\n",
    "y_pred = grid_search.predict(X_test)\n",
    "y_pred = y_pred.astype(int)\n",
    "\n",
    "\n",
    "from sklearn.metrics import confusion_matrix\n",
    "\n",
    "cm = confusion_matrix(y_test_binary, y_pred)\n",
    "print(\"Confusion Matrix:\")\n",
    "print(cm)\n"
   ]
  },
  {
   "cell_type": "markdown",
   "metadata": {},
   "source": [
    "## Classification Metrics"
   ]
  },
  {
   "cell_type": "code",
   "execution_count": 29,
   "metadata": {},
   "outputs": [
    {
     "name": "stdout",
     "output_type": "stream",
     "text": [
      "Classification Report:\n",
      "              precision    recall  f1-score   support\n",
      "\n",
      "           0       1.00      1.00      1.00      1560\n",
      "           1       1.00      1.00      1.00      1387\n",
      "\n",
      "    accuracy                           1.00      2947\n",
      "   macro avg       1.00      1.00      1.00      2947\n",
      "weighted avg       1.00      1.00      1.00      2947\n",
      "\n"
     ]
    }
   ],
   "source": [
    "from sklearn.metrics import classification_report\n",
    "\n",
    "# Print detailed classification metrics (precision, recall, F1-score)\n",
    "print(\"Classification Report:\")\n",
    "print(classification_report(y_test_binary, y_pred))\n"
   ]
  },
  {
   "cell_type": "markdown",
   "metadata": {},
   "source": [
    "## Visualizing the Confusion Matrix"
   ]
  },
  {
   "cell_type": "code",
   "execution_count": 30,
   "metadata": {},
   "outputs": [
    {
     "data": {
      "image/png": "[encoded data removed]",
      "text/plain": [
       "<Figure size 640x480 with 2 Axes>"
      ]
     },
     "metadata": {},
     "output_type": "display_data"
    }
   ],
   "source": [
    "import seaborn as sns\n",
    "\n",
    "# Create a heatmap of the confusion matrix\n",
    "sns.heatmap(cm, annot=True, fmt=\"d\", cmap=\"Blues\", xticklabels=[\"Inactive\", \"Active\"], yticklabels=[\"Inactive\", \"Active\"])\n",
    "plt.xlabel('Predicted')\n",
    "plt.ylabel('True')\n",
    "plt.title('Confusion Matrix')\n",
    "plt.show()\n"
   ]
  }
 ],
 "metadata": {
  "kernelspec": {
   "display_name": "pods24",
   "language": "python",
   "name": "python3"
  },
  "language_info": {
   "codemirror_mode": {
    "name": "ipython",
    "version": 3
   },
   "file_extension": ".py",
   "mimetype": "text/x-python",
   "name": "python",
   "nbconvert_exporter": "python",
   "pygments_lexer": "ipython3",
   "version": "3.9.20"
  }
 },
 "nbformat": 4,
 "nbformat_minor": 2
}
